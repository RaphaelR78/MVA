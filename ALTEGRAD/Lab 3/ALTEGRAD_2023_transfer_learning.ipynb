{
  "cells": [
    {
      "cell_type": "markdown",
      "metadata": {
        "id": "DlAfI8mCWAf3"
      },
      "source": [
        "<center><h2>ALTeGraD 2023<br>Lab Session 3: Transfer learning for NLP</h2> 24 / 10 / 2023<br> Dr. G. Shang, H. Abdine<br><br>\n",
        "\n",
        "\n",
        "<b>Student name:</b> Razafindralambo Raphaël\n",
        "\n",
        "</center>\n",
        "\n",
        "<br><br>\n",
        "In this lab we will:\n",
        "* Implement and pretrain a language model with transformer architecture.\n",
        "* Use the pretrained model (transfer learning) to perform a sentiment analysis task which consists of classifying some books reviews into positive and negative ones.\n",
        "* Compare the performance of the pretrained model to a model trained from scratch.\n",
        " <br>\n",
        "\n",
        "<b>The deadline for this lab is October 31, 2023 11:59 PM.</b> More details about the submission and the architecture for this lab can be found in the handout PDF."
      ]
    },
    {
      "cell_type": "code",
      "execution_count": 2,
      "metadata": {
        "id": "IqukuIe0Rb_c"
      },
      "outputs": [],
      "source": [
        "import math\n",
        "\n",
        "import torch\n",
        "import torch.nn as nn\n",
        "from torch.nn.utils.rnn import pad_sequence\n",
        "\n",
        "device = torch.device(\"cuda\" if torch.cuda.is_available() else \"cpu\")"
      ]
    },
    {
      "cell_type": "markdown",
      "metadata": {
        "id": "5FF6fjkqgN39"
      },
      "source": [
        "### The Model"
      ]
    },
    {
      "cell_type": "markdown",
      "metadata": {
        "id": "venhMZN-P8tz"
      },
      "source": [
        "Dimension of the output\n",
        "• Pretraining task: size of vocabulary because we predict the next token so a distribution (probabilities) for the words\n",
        "• Fine tuning: if binary classification (ex good or bad): size 2, if multi-class (ex: how many star this book review will have): size k. Number of classes.\n",
        "\n",
        "\"Shifted input\": Input starts with \"sos\", so it's the input but shifted by 1 column to the left (to get rid of \"sos\").\n",
        "Kind of impossible to have the same length for the phrase, as the input (because means 0 loss which is impossible)\n",
        "\n",
        "Task 1: Use nn module from pytorch. We have an embedding layer, then positional encoding layer (just need to check parameters in the lab) then transformer layer (stack of layers, directly from pytorch because we have already self attention. self attention + mask).\n",
        "\n",
        "Question 3: Tell about number of parameters in embedding, then for positional encoding, then for transformer layer. Don't need to include normalization parameter, just need layer parameters\n",
        "\n",
        "Output transformer pour classification: 1 truc qui représente la séquence entière. Last word will represent the whole sequence, because to predict it we considered the whole sequence.\n",
        "Last word = eos.\n",
        "\n",
        "\n",
        "nn.TransformerLayer\n",
        "\n",
        "• Un mécanisme d'attention multi-têtes, qui permet au modèle de se concentrer sur différentes parties de l'entrée pour chaque élément de la séquence.\n",
        "\n",
        "• Une feedforward network, qui est une petite réseau de neurones entièrement connecté qui traite chaque position de la séquence indépendamment des autres."
      ]
    },
    {
      "cell_type": "code",
      "execution_count": 3,
      "metadata": {
        "id": "p0cj9WkSFQwl"
      },
      "outputs": [],
      "source": [
        "class TransformerModel(nn.Module):\n",
        "    def __init__(self, ntoken, nhead, nhid, nlayers, dropout=0.5):\n",
        "        super(TransformerModel, self).__init__()\n",
        "        '''\n",
        "        ntokens: the size of vocabulary\n",
        "        nhid: the hidden dimension of the model.\n",
        "        We assume that embedding_dim = nhid\n",
        "        nlayers: the number of nn.TransformerEncoderLayer in nn.TransformerEncoder\n",
        "        nhead: the number of heads in the multiheadattention models\n",
        "        dropout: the dropout value\n",
        "         '''\n",
        "        self.model_type = \"Transformer\"\n",
        "        self.encoder = nn.Embedding(ntoken, nhid) # fill me, nhid = the dim_embed\n",
        "        self.pos_encoder = PositionalEncoding(nhid,dropout)\n",
        "        #fill me, the PositionalEncoding class is implemented in the next cell\n",
        "\n",
        "        encoder_layers = nn.TransformerEncoderLayer(d_model = nhid, nhead=nhead,dim_feedforward=nhid, dropout = dropout)\n",
        "        #fill me we assume nhid = d_model = dim_feedforward\n",
        "\n",
        "        self.transformer_encoder = nn.TransformerEncoder(encoder_layers,nlayers) #fill me\n",
        "        self.nhid = nhid\n",
        "        self.init_weights()\n",
        "\n",
        "    def generate_square_subsequent_mask(self, sz):\n",
        "        mask = (torch.triu(torch.ones(sz, sz)) == 1).transpose(0, 1)\n",
        "        mask = (\n",
        "            mask.float()\n",
        "            .masked_fill(mask == 0, float(\"-inf\"))\n",
        "            .masked_fill(mask == 1, float(0.0))\n",
        "        )\n",
        "        return mask\n",
        "\n",
        "    def init_weights(self):\n",
        "        initrange = 0.1\n",
        "        self.encoder.weight.data.uniform_(-initrange, initrange)\n",
        "\n",
        "    def forward(self, src, src_mask):\n",
        "        src = self.encoder(src) * math.sqrt(self.nhid)\n",
        "        src = self.pos_encoder.forward(src)\n",
        "        output = self.transformer_encoder(src,src_mask)\n",
        "        return output\n",
        "\n",
        "\n",
        "class ClassificationHead(nn.Module):\n",
        "    def __init__(self, nhid, nclasses):\n",
        "        super(ClassificationHead, self).__init__()\n",
        "        self.decoder = nn.Linear(nhid, nclasses) #fill me\n",
        "        self.init_weights()\n",
        "\n",
        "    def init_weights(self):\n",
        "        initrange = 0.1\n",
        "        self.decoder.bias.data.zero_()\n",
        "        self.decoder.weight.data.uniform_(-initrange, initrange)\n",
        "\n",
        "    def forward(self, src):\n",
        "        output = self.decoder(src)\n",
        "        return output\n",
        "\n",
        "class Model(nn.Module):\n",
        "    def __init__(self, ntoken, nhead, nhid, nlayers, nclasses, dropout=0.5):\n",
        "        super(Model, self).__init__()\n",
        "        self.base = TransformerModel(ntoken, nhead, nhid, nlayers, dropout) #fill me\n",
        "        self.classifier = ClassificationHead(nhid,nclasses) #fill me\n",
        "\n",
        "    def forward(self, src, src_mask):\n",
        "        # base model\n",
        "        x = self.base.forward(src,src_mask)#fill me\n",
        "        # classifier model\n",
        "        output = self.classifier.forward(x)#fill me\n",
        "        return output"
      ]
    },
    {
      "cell_type": "code",
      "execution_count": 4,
      "metadata": {
        "id": "kt2QQohaFZry"
      },
      "outputs": [],
      "source": [
        "class PositionalEncoding(nn.Module):\n",
        "    def __init__(self, nhid, dropout=0.1, max_len=5000):\n",
        "        super(PositionalEncoding, self).__init__()\n",
        "        self.dropout = nn.Dropout(p=dropout)\n",
        "\n",
        "        pe = torch.zeros(max_len, nhid)\n",
        "        position = torch.arange(0, max_len, dtype=torch.float).unsqueeze(1)\n",
        "        div_term = torch.exp(\n",
        "            torch.arange(0, nhid, 2).float() * (-math.log(10000.0) / nhid)\n",
        "        )\n",
        "        pe[:, 0::2] = torch.sin(position * div_term)\n",
        "        pe[:, 1::2] = torch.cos(position * div_term)\n",
        "        pe = pe.unsqueeze(0).transpose(0, 1)\n",
        "        self.register_buffer(\"pe\", pe)\n",
        "\n",
        "    def forward(self, x):\n",
        "        x = x + self.pe[: x.size(0), :]\n",
        "        return self.dropout(x)"
      ]
    },
    {
      "cell_type": "markdown",
      "metadata": {
        "id": "SfEYHJx2JW6l"
      },
      "source": [
        "Let's verify if our model works, by applying one inference step"
      ]
    },
    {
      "cell_type": "code",
      "execution_count": 5,
      "metadata": {
        "colab": {
          "base_uri": "https://localhost:8080/"
        },
        "id": "rhb2gkUhJMR0",
        "outputId": "4692f79f-6989-4c7a-def3-6a100a6e75b9"
      },
      "outputs": [
        {
          "name": "stderr",
          "output_type": "stream",
          "text": [
            "/usr/local/lib/python3.10/dist-packages/torch/nn/modules/transformer.py:282: UserWarning: enable_nested_tensor is True, but self.use_nested_tensor is False because encoder_layer.self_attn.batch_first was not True(use batch_first for better inference performance)\n",
            "  warnings.warn(f\"enable_nested_tensor is True, but self.use_nested_tensor is False because {why_not_sparsity_fast_path}\")\n"
          ]
        },
        {
          "name": "stdout",
          "output_type": "stream",
          "text": [
            "torch.Size([1, 6, 100])\n"
          ]
        }
      ],
      "source": [
        "ntokens = 100 # the size of vocabulary\n",
        "nhid = 200  # hidden dimension\n",
        "nlayers = 4  # the number of nn.TransformerEncoderLayer in nn.TransformerEncoder\n",
        "nhead = 2  # the number of heads in the multiheadattention models\n",
        "dropout = 0  # the dropout value\n",
        "\n",
        "model = Model(ntokens, nhead, nhid, nlayers, ntokens, dropout).to(device)\n",
        "dummy_input = torch.tensor([[2, 6, 2, 5, 43, 21]]).to(device)\n",
        "src_mask = model.base.generate_square_subsequent_mask(1).to(device)\n",
        "out = model.forward(dummy_input, src_mask)\n",
        "\n",
        "print(out.shape) # is it the right shape?"
      ]
    },
    {
      "cell_type": "markdown",
      "metadata": {
        "id": "i74NN897Fcit"
      },
      "source": [
        "## Vocabulary and Tokenization"
      ]
    },
    {
      "cell_type": "code",
      "execution_count": 6,
      "metadata": {
        "colab": {
          "base_uri": "https://localhost:8080/"
        },
        "id": "5qjd26ghWuff",
        "outputId": "28324bb1-17dd-4c31-ac45-e522b14d5e9f"
      },
      "outputs": [
        {
          "name": "stdout",
          "output_type": "stream",
          "text": [
            "--2023-10-31 20:16:45--  https://raw.githubusercontent.com/moussaKam/transfer_learning_transformers/main/dict.txt\n",
            "Resolving raw.githubusercontent.com (raw.githubusercontent.com)... 185.199.108.133, 185.199.109.133, 185.199.110.133, ...\n",
            "Connecting to raw.githubusercontent.com (raw.githubusercontent.com)|185.199.108.133|:443... connected.\n",
            "HTTP request sent, awaiting response... 200 OK\n",
            "Length: 577587 (564K) [text/plain]\n",
            "Saving to: ‘dict.txt’\n",
            "\n",
            "\rdict.txt              0%[                    ]       0  --.-KB/s               \rdict.txt            100%[===================>] 564.05K  --.-KB/s    in 0.01s   \n",
            "\n",
            "2023-10-31 20:16:45 (53.4 MB/s) - ‘dict.txt’ saved [577587/577587]\n",
            "\n",
            "▁d 1\n",
            "es 1\n",
            "▁l 1\n",
            "en 1\n",
            "on 1\n"
          ]
        }
      ],
      "source": [
        "!wget https://raw.githubusercontent.com/moussaKam/transfer_learning_transformers/main/dict.txt\n",
        "!head -5 dict.txt"
      ]
    },
    {
      "cell_type": "code",
      "execution_count": 7,
      "metadata": {
        "colab": {
          "base_uri": "https://localhost:8080/"
        },
        "id": "vFdH_-JeFbGA",
        "outputId": "4cc0d700-3a68-42c9-87a2-b253cedce212"
      },
      "outputs": [
        {
          "name": "stdout",
          "output_type": "stream",
          "text": [
            "▁trop\n"
          ]
        }
      ],
      "source": [
        "path_vocab = \"dict.txt\"\n",
        "token2ind = {\"<sos>\": 0, \"<pad>\": 1, \"<eos>\": 2, \"<oov>\": 3} # the 4 first indices are reserved to special tokens\n",
        "with open(path_vocab, \"r\") as f:\n",
        "    for idx, line in enumerate(f):\n",
        "        word = line.split()[0].strip()\n",
        "        token2ind[word] = idx+4 #fill me\n",
        "\n",
        "ind2token = {v: k for k, v in token2ind.items()} #fill me\n",
        "\n",
        "print(ind2token[1111])"
      ]
    },
    {
      "cell_type": "markdown",
      "metadata": {
        "id": "XOExGODajN8p"
      },
      "source": [
        "### Data Loader\n"
      ]
    },
    {
      "cell_type": "code",
      "execution_count": 8,
      "metadata": {
        "id": "Y0jN-Ar9i5Q1"
      },
      "outputs": [],
      "source": [
        "import numpy\n",
        "import torch\n",
        "from torch.nn.utils.rnn import pad_sequence\n",
        "from torch.utils.data import DataLoader, Dataset\n",
        "\n",
        "\n",
        "class Dataset(Dataset):\n",
        "    def __init__(\n",
        "        self,\n",
        "        path_documents,\n",
        "        path_labels=None,\n",
        "        token2ind={},\n",
        "        max_len=512,\n",
        "        task=\"language_modeling\",\n",
        "    ):\n",
        "        self.task = task\n",
        "        self.max_len = max_len\n",
        "        self.token2ind = token2ind\n",
        "        self.documents = []\n",
        "        self.labels = []\n",
        "        with open(path_documents, \"r\") as f1:\n",
        "            for line in f1:\n",
        "                self.documents.append(line.strip())\n",
        "        if task == \"classification\":\n",
        "            with open(path_labels, \"r\") as f1:\n",
        "                for line in f1:\n",
        "                    self.labels.append(int(line.strip()))\n",
        "            assert len(self.labels) == len(self.documents)\n",
        "\n",
        "    def __len__(self):\n",
        "        return len(self.documents)\n",
        "\n",
        "    def __getitem__(self, index):\n",
        "        sequence = self.documents[index].split()\n",
        "        if len(sequence) > self.max_len - 1:\n",
        "            sequence = sequence[: self.max_len - 1]\n",
        "        source_sequence = [token2ind['<sos>']] #fill me (constract the input sequence using token2ind, sequence and special tokens)\n",
        "        for word in sequence:\n",
        "          if word in token2ind:\n",
        "            source_sequence.append(self.token2ind[word])\n",
        "          else:\n",
        "            source_sequence.append(self.token2ind[\"<oov>\"])\n",
        "        # <sos> A B C D\n",
        "\n",
        "        #shift pour langage modelling\n",
        "        if self.task == \"language_modeling\":\n",
        "            target = source_sequence[1:]\n",
        "            target.append(self.token2ind[\"<eos>\"])\n",
        "        elif self.task == \"classification\":\n",
        "            target = [self.labels[index]]\n",
        "        sample = {\n",
        "            \"source_sequence\": torch.tensor(source_sequence),\n",
        "            \"target\": torch.tensor(target),\n",
        "        }\n",
        "        return sample\n",
        "\n",
        "\n",
        "def MyCollator(batch):\n",
        "    source_sequences = pad_sequence(\n",
        "        #we use padding to match the length of the sequences in the same batch\n",
        "        [sample[\"source_sequence\"] for sample in batch], padding_value=token2ind[\"<pad>\"]\n",
        "    )\n",
        "    target = pad_sequence(\n",
        "        [sample[\"target\"] for sample in batch], padding_value=token2ind[\"<pad>\"]\n",
        "    )\n",
        "    return source_sequences, target.reshape(-1)\n",
        "\n",
        "\n",
        "def get_loader(\n",
        "    path_documents,\n",
        "    path_labels=None,\n",
        "    token2ind={},\n",
        "    max_len=512,\n",
        "    batch_size=32,\n",
        "    task=\"language_modeling\",\n",
        "):\n",
        "    dataset = Dataset(\n",
        "        path_documents,\n",
        "        path_labels=path_labels,\n",
        "        token2ind=token2ind,\n",
        "        max_len=512,\n",
        "        task=task,\n",
        "    )\n",
        "    data_loader = DataLoader(\n",
        "        dataset=dataset,\n",
        "        batch_size=batch_size,\n",
        "        shuffle=True,\n",
        "        collate_fn=MyCollator,\n",
        "        pin_memory=True,\n",
        "        drop_last=True,\n",
        "    )\n",
        "    return data_loader"
      ]
    },
    {
      "cell_type": "markdown",
      "metadata": {
        "id": "uTns4lHrjUTa"
      },
      "source": [
        "## The Training"
      ]
    },
    {
      "cell_type": "code",
      "execution_count": 9,
      "metadata": {
        "id": "4_jwosiLjRsS"
      },
      "outputs": [],
      "source": [
        "def train(\n",
        "    path_data_train,\n",
        "    path_labels_train=None,\n",
        "    path_data_valid=None,\n",
        "    save_interval=-1,\n",
        "    log_interval=5,\n",
        "    task=\"language_modeling\",\n",
        "    batch_size=32,\n",
        "):\n",
        "    model.train()\n",
        "    total_loss = 0.0\n",
        "    ntokens = len(token2ind)\n",
        "    data_loader = get_loader(\n",
        "        path_data_train,\n",
        "        path_labels_train,\n",
        "        token2ind,\n",
        "        task=task,\n",
        "        batch_size=batch_size,\n",
        "    )\n",
        "\n",
        "    losses = []\n",
        "    for idx, data in enumerate(data_loader): #step 1\n",
        "        optimizer.zero_grad()\n",
        "        src_mask = model.base.generate_square_subsequent_mask(data[0].size(0)).to(\n",
        "            device\n",
        "        )\n",
        "        input = data[0].to(device)\n",
        "        output = model(input, src_mask) #step 2\n",
        "\n",
        "\n",
        "        if task == 'classification':\n",
        "            #last vector only\n",
        "            inds = []\n",
        "            for i in range(batch_size):\n",
        "                seq = input[:,i]\n",
        "                if seq[-1] != 1:\n",
        "                  #last vector\n",
        "                  ind = output.shape[0]-1\n",
        "                else:\n",
        "                  #last non padding vector\n",
        "                  ind = (seq == 1).nonzero(as_tuple=True)[0][0].item()-1\n",
        "                inds.append(ind)\n",
        "            inds = torch.tensor(inds).to(device)\n",
        "            output = output.gather(0, inds.view(1, -1, 1).expand(-1, -1, output.size(2)))\n",
        "        output = output.view(-1, output.shape[-1])\n",
        "        target = data[1]#fill me\n",
        "        target = target.to(device)\n",
        "\n",
        "        #fill me step 3:  Compute the loss through back-propagation\n",
        "        loss = criterion(output, target)#fill me, Cross entropy check next cells. Loss(output,target)\n",
        "\n",
        "        torch.nn.utils.clip_grad_norm_(model.parameters(), 0.5) # prevent exploding gradient\n",
        "        #fill me step 4: update the parameters of your model using sgd\n",
        "        loss.backward() #calculate gradient\n",
        "        optimizer.step() #update parameters\n",
        "\n",
        "\n",
        "        total_loss += loss.item()\n",
        "        if idx % log_interval == 0 and idx > 0:\n",
        "            cur_loss = total_loss / log_interval\n",
        "            print(\n",
        "                \"| epoch {:3d} | {:5d}/{:5d} steps | \"\n",
        "                \"loss {:5.5f} | ppl {:8.3f}\".format(\n",
        "                    epoch, idx, len(data_loader), cur_loss, math.exp(cur_loss),\n",
        "                )\n",
        "            )\n",
        "            losses.append(cur_loss)\n",
        "            total_loss = 0\n",
        "    return losses"
      ]
    },
    {
      "cell_type": "code",
      "execution_count": 10,
      "metadata": {
        "id": "pgf6BDB9jUr6"
      },
      "outputs": [],
      "source": [
        "ntokens = len(token2ind)#fill me # the size of vocabulary\n",
        "nhid = 200  # the dimension of the feedforward network model in nn.TransformerEncoder\n",
        "nlayers = 4  # the number of nn.TransformerEncoderLayer in nn.TransformerEncoder\n",
        "nhead = 2  # the number of heads in the multiheadattention models\n",
        "dropout = 0  # the dropout value\n",
        "\n",
        "nclasses = 2 # for classification task only\n",
        "\n",
        "model = Model(ntokens, nhead, nhid, nlayers, ntokens, dropout).to(device)"
      ]
    },
    {
      "cell_type": "code",
      "execution_count": 11,
      "metadata": {
        "id": "u-OLy4KIkDwf"
      },
      "outputs": [],
      "source": [
        "# optimization paramerters\n",
        "\n",
        "criterion = nn.CrossEntropyLoss(ignore_index=token2ind['<pad>'])\n",
        "lr = 0.0003  # learning rate\n",
        "optimizer = torch.optim.Adam(model.parameters(), lr=lr)"
      ]
    },
    {
      "cell_type": "code",
      "execution_count": 12,
      "metadata": {
        "colab": {
          "base_uri": "https://localhost:8080/"
        },
        "id": "Bwh3n9xZQy4e",
        "outputId": "679cf7bc-588e-4b03-9e9a-72c6a0f9b5ab"
      },
      "outputs": [
        {
          "name": "stdout",
          "output_type": "stream",
          "text": [
            "--2023-10-31 20:21:29--  https://raw.githubusercontent.com/moussaKam/transfer_learning_transformers/main/pretraining_subset.txt\n",
            "Resolving raw.githubusercontent.com (raw.githubusercontent.com)... 185.199.109.133, 185.199.111.133, 185.199.110.133, ...\n",
            "Connecting to raw.githubusercontent.com (raw.githubusercontent.com)|185.199.109.133|:443... connected.\n",
            "HTTP request sent, awaiting response... 200 OK\n",
            "Length: 10146460 (9.7M) [text/plain]\n",
            "Saving to: ‘pretraining_subset.txt’\n",
            "\n",
            "pretraining_subset. 100%[===================>]   9.68M  --.-KB/s    in 0.02s   \n",
            "\n",
            "2023-10-31 20:21:30 (401 MB/s) - ‘pretraining_subset.txt’ saved [10146460/10146460]\n",
            "\n"
          ]
        }
      ],
      "source": [
        "!wget https://raw.githubusercontent.com/moussaKam/transfer_learning_transformers/main/pretraining_subset.txt\n",
        "path_data_train = \"pretraining_subset.txt\""
      ]
    },
    {
      "cell_type": "code",
      "execution_count": 13,
      "metadata": {
        "colab": {
          "base_uri": "https://localhost:8080/"
        },
        "id": "0m11g4ScjZaR",
        "outputId": "0defad0f-752d-4813-b52a-f49f50f63d32"
      },
      "outputs": [
        {
          "name": "stdout",
          "output_type": "stream",
          "text": [
            "| epoch   1 |   500/ 3125 steps | loss 7.31947 | ppl 1509.408\n",
            "| epoch   1 |  1000/ 3125 steps | loss 6.51089 | ppl  672.423\n",
            "| epoch   1 |  1500/ 3125 steps | loss 6.24587 | ppl  515.878\n",
            "| epoch   1 |  2000/ 3125 steps | loss 6.06648 | ppl  431.162\n",
            "| epoch   1 |  2500/ 3125 steps | loss 5.91220 | ppl  369.519\n",
            "| epoch   1 |  3000/ 3125 steps | loss 5.81821 | ppl  336.370\n",
            "| epoch   2 |   500/ 3125 steps | loss 5.53317 | ppl  252.945\n",
            "| epoch   2 |  1000/ 3125 steps | loss 5.49552 | ppl  243.599\n",
            "| epoch   2 |  1500/ 3125 steps | loss 5.46041 | ppl  235.193\n",
            "| epoch   2 |  2000/ 3125 steps | loss 5.40917 | ppl  223.446\n",
            "| epoch   2 |  2500/ 3125 steps | loss 5.38917 | ppl  219.021\n",
            "| epoch   2 |  3000/ 3125 steps | loss 5.35233 | ppl  211.100\n"
          ]
        }
      ],
      "source": [
        "#pretraining on a tiny subset\n",
        "log_interval = 500\n",
        "epochs = 2\n",
        "for epoch in range(1, epochs + 1): #5\n",
        "    train(\n",
        "        path_data_train,\n",
        "        save_interval=-1,\n",
        "        task=\"language_modeling\", # fill me\n",
        "        batch_size=16,\n",
        "        log_interval=log_interval,\n",
        "    )"
      ]
    },
    {
      "cell_type": "markdown",
      "metadata": {
        "id": "MeOM1dOvkO4e"
      },
      "source": [
        "## Text Generation\n"
      ]
    },
    {
      "cell_type": "code",
      "execution_count": 48,
      "metadata": {
        "colab": {
          "base_uri": "https://localhost:8080/"
        },
        "id": "-BcBC6FSkMH3",
        "outputId": "6c0b1b94-9eb5-447f-f2a0-81f1545880bc"
      },
      "outputs": [
        {
          "name": "stdout",
          "output_type": "stream",
          "text": [
            "--2023-10-31 21:00:11--  https://raw.githubusercontent.com/moussaKam/transfer_learning_transformers/main/pretrained_model_4layers.pt\n",
            "Resolving raw.githubusercontent.com (raw.githubusercontent.com)... 185.199.111.133, 185.199.110.133, 185.199.108.133, ...\n",
            "Connecting to raw.githubusercontent.com (raw.githubusercontent.com)|185.199.111.133|:443... connected.\n",
            "HTTP request sent, awaiting response... 200 OK\n",
            "Length: 88093955 (84M) [application/octet-stream]\n",
            "Saving to: ‘pretrained_model_4layers.pt.1’\n",
            "\n",
            "pretrained_model_4l 100%[===================>]  84.01M   479MB/s    in 0.2s    \n",
            "\n",
            "2023-10-31 21:00:11 (479 MB/s) - ‘pretrained_model_4layers.pt.1’ saved [88093955/88093955]\n",
            "\n"
          ]
        },
        {
          "name": "stderr",
          "output_type": "stream",
          "text": [
            "/usr/local/lib/python3.10/dist-packages/torch/nn/modules/transformer.py:282: UserWarning: enable_nested_tensor is True, but self.use_nested_tensor is False because encoder_layer.self_attn.batch_first was not True(use batch_first for better inference performance)\n",
            "  warnings.warn(f\"enable_nested_tensor is True, but self.use_nested_tensor is False because {why_not_sparsity_fast_path}\")\n"
          ]
        },
        {
          "data": {
            "text/plain": [
              "<All keys matched successfully>"
            ]
          },
          "execution_count": 48,
          "metadata": {},
          "output_type": "execute_result"
        }
      ],
      "source": [
        "!wget https://raw.githubusercontent.com/moussaKam/transfer_learning_transformers/main/pretrained_model_4layers.pt\n",
        "\n",
        "model = Model(ntokens, nhead, nhid, nlayers, ntokens).to(device)\n",
        "\n",
        "#load the checkpoint\n",
        "checkpoint = torch.load('pretrained_model_4layers.pt')\n",
        "#load state dict\n",
        "model.load_state_dict(checkpoint['model_state_dict'])"
      ]
    },
    {
      "cell_type": "code",
      "execution_count": 49,
      "metadata": {
        "colab": {
          "base_uri": "https://localhost:8080/"
        },
        "id": "tBRRVsWqlIoQ",
        "outputId": "c4dfd20b-993c-4991-b140-1d0560bcd93a"
      },
      "outputs": [
        {
          "name": "stdout",
          "output_type": "stream",
          "text": [
            "Requirement already satisfied: sentencepiece in /usr/local/lib/python3.10/dist-packages (0.1.99)\n",
            "--2023-10-31 21:00:18--  https://raw.githubusercontent.com/moussaKam/transfer_learning_transformers/main/sentencepiece.french.model\n",
            "Resolving raw.githubusercontent.com (raw.githubusercontent.com)... 185.199.108.133, 185.199.109.133, 185.199.110.133, ...\n",
            "Connecting to raw.githubusercontent.com (raw.githubusercontent.com)|185.199.108.133|:443... connected.\n",
            "HTTP request sent, awaiting response... 200 OK\n",
            "Length: 1115362 (1.1M) [application/octet-stream]\n",
            "Saving to: ‘sentencepiece.french.model.1’\n",
            "\n",
            "sentencepiece.frenc 100%[===================>]   1.06M  --.-KB/s    in 0.009s  \n",
            "\n",
            "2023-10-31 21:00:18 (124 MB/s) - ‘sentencepiece.french.model.1’ saved [1115362/1115362]\n",
            "\n",
            "['▁Bonjour', '▁les', '▁amis', '!']\n",
            "Bonjour les amis!\n"
          ]
        }
      ],
      "source": [
        "!pip install sentencepiece   # uncomment this if you are using google colab\n",
        "!wget https://raw.githubusercontent.com/moussaKam/transfer_learning_transformers/main/sentencepiece.french.model\n",
        "\n",
        "import sentencepiece as spm\n",
        "\n",
        "s = spm.SentencePieceProcessor(model_file='sentencepiece.french.model') #load sentencepiece model\n",
        "\n",
        "#examples\n",
        "encoded = s.encode_as_pieces(\"Bonjour les amis!\")\n",
        "decoded = s.decode_pieces(encoded)\n",
        "print(encoded)\n",
        "print(decoded)"
      ]
    },
    {
      "cell_type": "code",
      "execution_count": 50,
      "metadata": {
        "id": "TtLlV05pkQI3"
      },
      "outputs": [],
      "source": [
        "def infer_next_token(sent):\n",
        "    model.eval()\n",
        "    sent_pieces = s.encode_as_pieces(sent)\n",
        "    source = [token2ind['<sos>']] + [token2ind[el] for el in sent_pieces] # list of tokens\n",
        "    source = torch.tensor(source).to(device)\n",
        "    source = source.reshape(-1, 1)\n",
        "    src_mask = model.base.generate_square_subsequent_mask(source.size(0)).to(device)\n",
        "    out = model(source, src_mask)\n",
        "    probs = torch.softmax(out,2)\n",
        "    next_token_ind = torch.argmax(probs,2)[-1]\n",
        "    return next_token_ind, out\n",
        "\n",
        "def infer_next_tokens(sent, max_len=50):\n",
        "    sentence_list = s.encode_as_pieces(sent)\n",
        "    l = len(sentence_list)\n",
        "    #indice 0 pour le premier argument du tuple\n",
        "    next_ind = infer_next_token(sent)[0]\n",
        "\n",
        "    next_token = ind2token[next_ind.item()]\n",
        "    sentence_list.append(next_token)\n",
        "    while (next_token != \"<eos>\" and len(sentence_list) < max_len):\n",
        "      next_ind = infer_next_token(s.decode_pieces(sentence_list))[0]\n",
        "      next_token = ind2token[next_ind.item()]\n",
        "      sentence_list.append(next_token)\n",
        "    if sentence_list[-1] == \"<eos>\": sentence_list = sentence_list[:-1]\n",
        "    return s.decode_pieces(sentence_list[l:])\n"
      ]
    },
    {
      "cell_type": "code",
      "execution_count": 63,
      "metadata": {
        "colab": {
          "base_uri": "https://localhost:8080/",
          "height": 36
        },
        "id": "f83Nn5nSly4v",
        "outputId": "d8259572-405e-4007-bf6f-3759bff495b4"
      },
      "outputs": [
        {
          "data": {
            "application/vnd.google.colaboratory.intrinsic+json": {
              "type": "string"
            },
            "text/plain": [
              "'gens qui ont été très accueillants et sympathiques.'"
            ]
          },
          "execution_count": 63,
          "metadata": {},
          "output_type": "execute_result"
        }
      ],
      "source": [
        "sent = \"Bonjour les\"\n",
        "infer_next_tokens(sent)"
      ]
    },
    {
      "cell_type": "markdown",
      "metadata": {
        "id": "Lp7mjVzomoZ3"
      },
      "source": [
        "### Supervised task"
      ]
    },
    {
      "cell_type": "code",
      "execution_count": 39,
      "metadata": {
        "colab": {
          "base_uri": "https://localhost:8080/"
        },
        "id": "0K1BZsblmEmx",
        "outputId": "0b05242f-11da-4cac-8fd9-ebf64f675a37"
      },
      "outputs": [
        {
          "name": "stdout",
          "output_type": "stream",
          "text": [
            "--2023-10-31 20:32:27--  https://raw.githubusercontent.com/moussaKam/transfer_learning_transformers/main/cls-books/train.review.spm\n",
            "Resolving raw.githubusercontent.com (raw.githubusercontent.com)... 185.199.108.133, 185.199.109.133, 185.199.110.133, ...\n",
            "Connecting to raw.githubusercontent.com (raw.githubusercontent.com)|185.199.108.133|:443... connected.\n",
            "HTTP request sent, awaiting response... 200 OK\n",
            "Length: 1495960 (1.4M) [text/plain]\n",
            "Saving to: ‘train.review.spm’\n",
            "\n",
            "\rtrain.review.spm      0%[                    ]       0  --.-KB/s               \rtrain.review.spm    100%[===================>]   1.43M  --.-KB/s    in 0.01s   \n",
            "\n",
            "2023-10-31 20:32:27 (133 MB/s) - ‘train.review.spm’ saved [1495960/1495960]\n",
            "\n",
            "--2023-10-31 20:32:27--  https://raw.githubusercontent.com/moussaKam/transfer_learning_transformers/main/cls-books/train.label\n",
            "Resolving raw.githubusercontent.com (raw.githubusercontent.com)... 185.199.108.133, 185.199.109.133, 185.199.110.133, ...\n",
            "Connecting to raw.githubusercontent.com (raw.githubusercontent.com)|185.199.108.133|:443... connected.\n",
            "HTTP request sent, awaiting response... 200 OK\n",
            "Length: 3200 (3.1K) [text/plain]\n",
            "Saving to: ‘train.label’\n",
            "\n",
            "train.label         100%[===================>]   3.12K  --.-KB/s    in 0s      \n",
            "\n",
            "2023-10-31 20:32:28 (63.4 MB/s) - ‘train.label’ saved [3200/3200]\n",
            "\n",
            "--2023-10-31 20:32:28--  https://raw.githubusercontent.com/moussaKam/transfer_learning_transformers/main/cls-books/test.review.spm\n",
            "Resolving raw.githubusercontent.com (raw.githubusercontent.com)... 185.199.108.133, 185.199.109.133, 185.199.110.133, ...\n",
            "Connecting to raw.githubusercontent.com (raw.githubusercontent.com)|185.199.108.133|:443... connected.\n",
            "HTTP request sent, awaiting response... 200 OK\n",
            "Length: 1864544 (1.8M) [text/plain]\n",
            "Saving to: ‘test.review.spm’\n",
            "\n",
            "test.review.spm     100%[===================>]   1.78M  --.-KB/s    in 0.01s   \n",
            "\n",
            "2023-10-31 20:32:28 (122 MB/s) - ‘test.review.spm’ saved [1864544/1864544]\n",
            "\n",
            "--2023-10-31 20:32:28--  https://raw.githubusercontent.com/moussaKam/transfer_learning_transformers/main/cls-books/test.label\n",
            "Resolving raw.githubusercontent.com (raw.githubusercontent.com)... 185.199.108.133, 185.199.109.133, 185.199.110.133, ...\n",
            "Connecting to raw.githubusercontent.com (raw.githubusercontent.com)|185.199.108.133|:443... connected.\n",
            "HTTP request sent, awaiting response... 200 OK\n",
            "Length: 4000 (3.9K) [text/plain]\n",
            "Saving to: ‘test.label’\n",
            "\n",
            "test.label          100%[===================>]   3.91K  --.-KB/s    in 0s      \n",
            "\n",
            "2023-10-31 20:32:28 (72.8 MB/s) - ‘test.label’ saved [4000/4000]\n",
            "\n"
          ]
        }
      ],
      "source": [
        "!wget https://raw.githubusercontent.com/moussaKam/transfer_learning_transformers/main/cls-books/train.review.spm\n",
        "!wget https://raw.githubusercontent.com/moussaKam/transfer_learning_transformers/main/cls-books/train.label\n",
        "!wget https://raw.githubusercontent.com/moussaKam/transfer_learning_transformers/main/cls-books/test.review.spm\n",
        "!wget https://raw.githubusercontent.com/moussaKam/transfer_learning_transformers/main/cls-books/test.label\n",
        "\n",
        "path_data_train = \"train.review.spm\"\n",
        "path_labels_train = \"train.label\"\n",
        "\n",
        "path_data_valid = \"test.review.spm\"\n",
        "path_labels_valid = \"test.label\""
      ]
    },
    {
      "cell_type": "code",
      "execution_count": 40,
      "metadata": {
        "id": "_MLfvjiom2SL"
      },
      "outputs": [],
      "source": [
        "# a function to evaluate the validation accuracy of the model.\n",
        "def evaluate_accuracy(data_loader):\n",
        "    model.eval()  # Mettre le modèle en mode évaluation\n",
        "    correct_predictions = 0\n",
        "    total_predictions = 0\n",
        "\n",
        "    with torch.no_grad():\n",
        "        for idx,batch in enumerate(data_loader):\n",
        "            source = batch[0].to(device)\n",
        "            targets = batch[1].to(device)\n",
        "            src_mask = model.base.generate_square_subsequent_mask(source.size(0)).to(device)\n",
        "            predictions = model(source, src_mask)\n",
        "            #On itère sur les phrases\n",
        "            pred = []\n",
        "            for i in range(source.shape[1]):\n",
        "                seq = source[:,i]\n",
        "                if seq[-1] != 1:\n",
        "                  #prendre le dernier vecteur\n",
        "                  res = predictions[-1,i,:]\n",
        "                else:\n",
        "                  #prendre le dernier vecteur non associé à <pad>\n",
        "                  ind = (seq == 1).nonzero(as_tuple=True)[0][0].item()-1\n",
        "                  res = predictions[ind,i,:]\n",
        "\n",
        "                pred.append(torch.softmax(res,0).argmax())\n",
        "            pred = torch.tensor(pred).to(device)\n",
        "            \"\"\"\n",
        "            if idx == 0:\n",
        "              print(\"Source: \", source.shape ,\"[Taille phrase (apres padding), Nombre phrases]\")\n",
        "              print(source)\n",
        "              print(\"Targets:\", targets.shape, \"[Nombre de phrases]\")\n",
        "              print(targets)\n",
        "              print(\"Predictions:\",predictions.shape, \"[Taille phrase (apres padding), Nombre phrases, Nombre classes]\")\n",
        "              print(predictions[2,1,:].shape)\n",
        "              print(\"Predictions classes:\", pred.shape, \"(1 prédiction par phrase)\")\n",
        "\n",
        "            \"\"\"\n",
        "\n",
        "            correct_predictions += torch.sum(pred == targets)\n",
        "            total_predictions += targets.size(0)\n",
        "\n",
        "\n",
        "    accuracy = correct_predictions / total_predictions\n",
        "    return accuracy.item()"
      ]
    },
    {
      "cell_type": "code",
      "execution_count": 41,
      "metadata": {
        "id": "qzmx7T7xoa6v"
      },
      "outputs": [],
      "source": [
        "#save the base model to be loaded later in the fine-tuning phase\n",
        "torch.save({\"model_state_dict\": model.base.state_dict(),}, \"pretrained_model_4layers_no_class_head.pt\")"
      ]
    },
    {
      "cell_type": "code",
      "execution_count": 44,
      "metadata": {
        "colab": {
          "base_uri": "https://localhost:8080/"
        },
        "id": "i-xclMCpnVpw",
        "outputId": "6816f737-fd30-4e0f-fdb6-0e5c161f25f6"
      },
      "outputs": [
        {
          "name": "stdout",
          "output_type": "stream",
          "text": [
            "=====Trainig FROM SCRATCH======\n",
            "| epoch   1 |    50/  200 steps | loss 0.77911 | ppl    2.180\n",
            "| epoch   1 |   100/  200 steps | loss 0.70698 | ppl    2.028\n",
            "| epoch   1 |   150/  200 steps | loss 0.68884 | ppl    1.991\n",
            "| epoch   2 |    50/  200 steps | loss 0.61924 | ppl    1.858\n",
            "| epoch   2 |   100/  200 steps | loss 0.60597 | ppl    1.833\n",
            "| epoch   2 |   150/  200 steps | loss 0.58539 | ppl    1.796\n",
            "| epoch   3 |    50/  200 steps | loss 0.52686 | ppl    1.694\n",
            "| epoch   3 |   100/  200 steps | loss 0.35856 | ppl    1.431\n",
            "| epoch   3 |   150/  200 steps | loss 0.37556 | ppl    1.456\n",
            "| epoch   4 |    50/  200 steps | loss 0.11225 | ppl    1.119\n",
            "| epoch   4 |   100/  200 steps | loss 0.10045 | ppl    1.106\n",
            "| epoch   4 |   150/  200 steps | loss 0.10850 | ppl    1.115\n",
            "| epoch   5 |    50/  200 steps | loss 0.01963 | ppl    1.020\n",
            "| epoch   5 |   100/  200 steps | loss 0.00998 | ppl    1.010\n",
            "| epoch   5 |   150/  200 steps | loss 0.00653 | ppl    1.007\n",
            "| epoch   6 |    50/  200 steps | loss 0.00215 | ppl    1.002\n",
            "| epoch   6 |   100/  200 steps | loss 0.00112 | ppl    1.001\n",
            "| epoch   6 |   150/  200 steps | loss 0.00082 | ppl    1.001\n",
            "| epoch   7 |    50/  200 steps | loss 0.00053 | ppl    1.001\n",
            "| epoch   7 |   100/  200 steps | loss 0.00050 | ppl    1.001\n",
            "| epoch   7 |   150/  200 steps | loss 0.00044 | ppl    1.000\n",
            "| epoch   8 |    50/  200 steps | loss 0.00032 | ppl    1.000\n",
            "| epoch   8 |   100/  200 steps | loss 0.00034 | ppl    1.000\n",
            "| epoch   8 |   150/  200 steps | loss 0.00028 | ppl    1.000\n",
            "| epoch   9 |    50/  200 steps | loss 0.00023 | ppl    1.000\n",
            "| epoch   9 |   100/  200 steps | loss 0.00021 | ppl    1.000\n",
            "| epoch   9 |   150/  200 steps | loss 0.00022 | ppl    1.000\n",
            "| epoch  10 |    50/  200 steps | loss 0.00016 | ppl    1.000\n",
            "| epoch  10 |   100/  200 steps | loss 0.00018 | ppl    1.000\n",
            "| epoch  10 |   150/  200 steps | loss 0.00014 | ppl    1.000\n",
            "| epoch  11 |    50/  200 steps | loss 0.00012 | ppl    1.000\n",
            "| epoch  11 |   100/  200 steps | loss 0.00013 | ppl    1.000\n",
            "| epoch  11 |   150/  200 steps | loss 0.00012 | ppl    1.000\n",
            "| epoch  12 |    50/  200 steps | loss 0.00010 | ppl    1.000\n",
            "| epoch  12 |   100/  200 steps | loss 0.00010 | ppl    1.000\n",
            "| epoch  12 |   150/  200 steps | loss 0.00010 | ppl    1.000\n",
            "| epoch  13 |    50/  200 steps | loss 0.00008 | ppl    1.000\n",
            "| epoch  13 |   100/  200 steps | loss 0.00009 | ppl    1.000\n",
            "| epoch  13 |   150/  200 steps | loss 0.00007 | ppl    1.000\n",
            "| epoch  14 |    50/  200 steps | loss 0.00007 | ppl    1.000\n",
            "| epoch  14 |   100/  200 steps | loss 0.00007 | ppl    1.000\n",
            "| epoch  14 |   150/  200 steps | loss 0.00007 | ppl    1.000\n",
            "| epoch  15 |    50/  200 steps | loss 0.00006 | ppl    1.000\n",
            "| epoch  15 |   100/  200 steps | loss 0.00005 | ppl    1.000\n",
            "| epoch  15 |   150/  200 steps | loss 0.00006 | ppl    1.000\n",
            "\n",
            "=====PRETRAINED MODEL======\n",
            "| epoch   1 |    50/  200 steps | loss 0.73153 | ppl    2.078\n",
            "| epoch   1 |   100/  200 steps | loss 0.62706 | ppl    1.872\n",
            "| epoch   1 |   150/  200 steps | loss 0.54209 | ppl    1.720\n",
            "| epoch   2 |    50/  200 steps | loss 0.41701 | ppl    1.517\n",
            "| epoch   2 |   100/  200 steps | loss 0.31630 | ppl    1.372\n",
            "| epoch   2 |   150/  200 steps | loss 0.41295 | ppl    1.511\n",
            "| epoch   3 |    50/  200 steps | loss 0.23593 | ppl    1.266\n",
            "| epoch   3 |   100/  200 steps | loss 0.24660 | ppl    1.280\n",
            "| epoch   3 |   150/  200 steps | loss 0.19322 | ppl    1.213\n",
            "| epoch   4 |    50/  200 steps | loss 0.09163 | ppl    1.096\n",
            "| epoch   4 |   100/  200 steps | loss 0.10393 | ppl    1.110\n",
            "| epoch   4 |   150/  200 steps | loss 0.10174 | ppl    1.107\n",
            "| epoch   5 |    50/  200 steps | loss 0.01636 | ppl    1.016\n",
            "| epoch   5 |   100/  200 steps | loss 0.01617 | ppl    1.016\n",
            "| epoch   5 |   150/  200 steps | loss 0.03741 | ppl    1.038\n",
            "| epoch   6 |    50/  200 steps | loss 0.01768 | ppl    1.018\n",
            "| epoch   6 |   100/  200 steps | loss 0.00528 | ppl    1.005\n",
            "| epoch   6 |   150/  200 steps | loss 0.00367 | ppl    1.004\n",
            "| epoch   7 |    50/  200 steps | loss 0.00116 | ppl    1.001\n",
            "| epoch   7 |   100/  200 steps | loss 0.00093 | ppl    1.001\n",
            "| epoch   7 |   150/  200 steps | loss 0.00121 | ppl    1.001\n",
            "| epoch   8 |    50/  200 steps | loss 0.00052 | ppl    1.001\n",
            "| epoch   8 |   100/  200 steps | loss 0.00056 | ppl    1.001\n",
            "| epoch   8 |   150/  200 steps | loss 0.00048 | ppl    1.000\n",
            "| epoch   9 |    50/  200 steps | loss 0.00030 | ppl    1.000\n",
            "| epoch   9 |   100/  200 steps | loss 0.00028 | ppl    1.000\n",
            "| epoch   9 |   150/  200 steps | loss 0.00040 | ppl    1.000\n",
            "| epoch  10 |    50/  200 steps | loss 0.00027 | ppl    1.000\n",
            "| epoch  10 |   100/  200 steps | loss 0.00020 | ppl    1.000\n",
            "| epoch  10 |   150/  200 steps | loss 0.00021 | ppl    1.000\n",
            "| epoch  11 |    50/  200 steps | loss 0.00022 | ppl    1.000\n",
            "| epoch  11 |   100/  200 steps | loss 0.00014 | ppl    1.000\n",
            "| epoch  11 |   150/  200 steps | loss 0.00017 | ppl    1.000\n",
            "| epoch  12 |    50/  200 steps | loss 0.00012 | ppl    1.000\n",
            "| epoch  12 |   100/  200 steps | loss 0.00014 | ppl    1.000\n",
            "| epoch  12 |   150/  200 steps | loss 0.00012 | ppl    1.000\n",
            "| epoch  13 |    50/  200 steps | loss 0.00012 | ppl    1.000\n",
            "| epoch  13 |   100/  200 steps | loss 0.00009 | ppl    1.000\n",
            "| epoch  13 |   150/  200 steps | loss 0.00011 | ppl    1.000\n",
            "| epoch  14 |    50/  200 steps | loss 0.00010 | ppl    1.000\n",
            "| epoch  14 |   100/  200 steps | loss 0.00006 | ppl    1.000\n",
            "| epoch  14 |   150/  200 steps | loss 0.00008 | ppl    1.000\n",
            "| epoch  15 |    50/  200 steps | loss 0.00008 | ppl    1.000\n",
            "| epoch  15 |   100/  200 steps | loss 0.00007 | ppl    1.000\n",
            "| epoch  15 |   150/  200 steps | loss 0.00003 | ppl    1.000\n",
            "\n"
          ]
        }
      ],
      "source": [
        "from_scratch_settings = [True, False]\n",
        "\n",
        "from_scratch_valid_acc = []\n",
        "pretrained_valid_acc = []\n",
        "lr = 0.0001\n",
        "\n",
        "for from_scratch in from_scratch_settings:\n",
        "    model = Model(ntokens, nhead, nhid, nlayers, 2, dropout).to(device)\n",
        "    criterion = nn.CrossEntropyLoss()\n",
        "    optimizer = torch.optim.Adam(model.parameters(), lr=lr)\n",
        "    if not from_scratch:\n",
        "        print(\"=====PRETRAINED MODEL======\")\n",
        "        #load checkpoint\n",
        "        checkpoint = torch.load(\"pretrained_model_4layers_no_class_head.pt\")\n",
        "        #load state dict\n",
        "        model.base.load_state_dict(checkpoint['model_state_dict'])\n",
        "    else:\n",
        "        print(\"=====Trainig FROM SCRATCH======\")\n",
        "    epochs = 15\n",
        "    for epoch in range(1, epochs + 1):\n",
        "        train(\n",
        "            path_data_train,\n",
        "            path_labels_train,\n",
        "            save_interval=-1,\n",
        "            task='classification',\n",
        "            batch_size=8,\n",
        "            log_interval=50,\n",
        "        )\n",
        "        acc = evaluate_accuracy(\n",
        "            get_loader(\n",
        "                path_data_valid,\n",
        "                path_labels_valid,\n",
        "                token2ind=token2ind,\n",
        "                batch_size=20,\n",
        "                task='classification',\n",
        "            )\n",
        "        )\n",
        "        if from_scratch:\n",
        "            from_scratch_valid_acc.append(acc)\n",
        "        else:\n",
        "            pretrained_valid_acc.append(acc)\n",
        "    print()"
      ]
    },
    {
      "cell_type": "code",
      "execution_count": 45,
      "metadata": {
        "colab": {
          "base_uri": "https://localhost:8080/",
          "height": 472
        },
        "id": "RCpBIdTHojm6",
        "outputId": "6138b5db-8645-4a6a-a80a-c3b1bf08ce4d"
      },
      "outputs": [
        {
          "data": {
            "image/png": "[encoded data removed]",
            "text/plain": [
              "<Figure size 640x480 with 1 Axes>"
            ]
          },
          "metadata": {},
          "output_type": "display_data"
        }
      ],
      "source": [
        "#Visualize the accuracy\n",
        "import matplotlib.pyplot as plt\n",
        "\n",
        "\n",
        "fig, ax = plt.subplots()\n",
        "\n",
        "ax.plot(from_scratch_valid_acc, label='From Scratch', color='blue', linestyle='--', marker='s')\n",
        "ax.plot(pretrained_valid_acc, label='Pretrained', color='orange', linestyle='-', marker='o')\n",
        "\n",
        "\n",
        "ax.set_xlabel('Epochs')\n",
        "ax.set_ylabel('Validation Accuracy')\n",
        "ax.legend()\n",
        "ax.set_title(\"Comparison pre-trained vs from scratch model\")\n",
        "ax.grid(True, linestyle='--', alpha=0.5)\n",
        "plt.show()"
      ]
    }
  ],
  "metadata": {
    "accelerator": "GPU",
    "colab": {
      "gpuType": "T4",
      "machine_shape": "hm",
      "provenance": []
    },
    "kernelspec": {
      "display_name": "Python 3",
      "name": "python3"
    },
    "language_info": {
      "codemirror_mode": {
        "name": "ipython",
        "version": 3
      },
      "file_extension": ".py",
      "mimetype": "text/x-python",
      "name": "python",
      "nbconvert_exporter": "python",
      "pygments_lexer": "ipython3",
      "version": "3.9.13"
    },
    "vscode": {
      "interpreter": {
        "hash": "1f3cfdeab8dd8f9900bd16266619de191cf0f5e09365d74b1fba1714dce58066"
      }
    }
  },
  "nbformat": 4,
  "nbformat_minor": 0
}
